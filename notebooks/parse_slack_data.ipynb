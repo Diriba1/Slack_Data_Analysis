{
 "cells": [
  {
   "cell_type": "code",
   "execution_count": null,
   "metadata": {},
   "outputs": [],
   "source": [
    "%reload_ext autoreload\n",
    "%autoreload 2"
   ]
  },
  {
   "cell_type": "code",
   "execution_count": null,
   "metadata": {},
   "outputs": [],
   "source": [
    "import os, sys\n",
    "import re\n",
    "import json\n",
    "import glob\n",
    "import datetime\n",
    "from collections import Counter\n",
    "\n",
    "import pandas as pd\n",
    "from matplotlib import pyplot as plt\n",
    "import seaborn as sns\n",
    "\n",
    "from nltk.corpus import stopwords\n",
    "from wordcloud import WordCloud"
   ]
  },
  {
   "cell_type": "code",
   "execution_count": null,
   "metadata": {},
   "outputs": [],
   "source": [
    "# Add parent directory to path to import modules from src\n",
    "rpath = os.path.abspath('..')\n",
    "if rpath not in sys.path:\n",
    "    sys.path.insert(0, rpath)\n",
    "\n",
    "from src.loader import SlackDataLoader\n",
    "import src.utils as utils\n",
    "import src.loader as loader"
   ]
  },
  {
   "cell_type": "code",
   "execution_count": null,
   "metadata": {},
   "outputs": [],
   "source": [
    "# read one of json file for test purpose\"C:/Users/Diriba/Desktop/10AC/Projects/week0_starter_network_analysis/anonymized/\n",
    "data = pd.read_json(\"C:/Users/Diriba/Desktop/10AC/Projects/week0_starter_network_analysis/anonymized/users.json\")"
   ]
  },
  {
   "cell_type": "code",
   "execution_count": null,
   "metadata": {},
   "outputs": [],
   "source": [
    "# printing 5 rows from the top\n",
    "data.head()"
   ]
  },
  {
   "cell_type": "code",
   "execution_count": null,
   "metadata": {},
   "outputs": [],
   "source": [
    "# printing 5 items from the bottom\n",
    "data.tail()"
   ]
  },
  {
   "cell_type": "code",
   "execution_count": null,
   "metadata": {},
   "outputs": [],
   "source": [
    "# print desccription of the data \n",
    "data.describe()"
   ]
  },
  {
   "cell_type": "code",
   "execution_count": null,
   "metadata": {},
   "outputs": [],
   "source": [
    "# know the shape of the data \n",
    "data.shape"
   ]
  },
  {
   "cell_type": "code",
   "execution_count": null,
   "metadata": {},
   "outputs": [],
   "source": [
    "# print name of the data coumns\n",
    "data.columns"
   ]
  },
  {
   "cell_type": "markdown",
   "metadata": {},
   "source": [
    "### Columns we can get from a slack message<br>\n",
    "\n",
    "message_type, message_content, sender_id, time_sent, message_distribution, time_thread_start, reply_count, reply_user_count, time_thread_end, reply_users"
   ]
  },
  {
   "cell_type": "markdown",
   "metadata": {},
   "source": [
    "From a single slack message, we can get <br>\n",
    "\n",
    "1. The message<br>\n",
    "2. Type (message, file, link, etc)<br>\n",
    "3. The sender_id (assigned by slack)<br>\n",
    "4. The time the message was sent<br>\n",
    "5. The team (i don't know what that is now)<br>\n",
    "6. The type of the message (broadcast message, inhouse, just messgae)<br>\n",
    "7. The thread the message generated (from here we can go):<br>\n",
    "    7.1 Text/content of the message<br>\n",
    "    7.2 The thread time of the message<br>\n",
    "    7.3 The thread count (reply count)<br>\n",
    "    7.4 The number of user that reply the message (count of users that participated in the thread)<br>\n",
    "    7.5 The time the last thread message was sent <br>\n",
    "    7.6 The users that participated in the thread (their ids are stored as well)<br>"
   ]
  },
  {
   "cell_type": "markdown",
   "metadata": {},
   "source": [
    "## Insight Extraction\n",
    "\n",
    "Below are some useful questions to answer. Feel free to explore to answer other interesting questions that may be of help to get insight about student's behaviour, need, and future performance "
   ]
  },
  {
   "cell_type": "code",
   "execution_count": 28,
   "metadata": {},
   "outputs": [
    {
     "name": "stdout",
     "output_type": "stream",
     "text": [
      "['C:/Users/Diriba/Desktop/10AC/Projects/week0_starter_network_analysis/anonymized\\\\all-week1\\\\2022-08-12.json', 'C:/Users/Diriba/Desktop/10AC/Projects/week0_starter_network_analysis/anonymized\\\\all-week1\\\\2022-08-18.json', 'C:/Users/Diriba/Desktop/10AC/Projects/week0_starter_network_analysis/anonymized\\\\all-week1\\\\2022-08-19.json', 'C:/Users/Diriba/Desktop/10AC/Projects/week0_starter_network_analysis/anonymized\\\\all-week1\\\\2022-08-20.json', 'C:/Users/Diriba/Desktop/10AC/Projects/week0_starter_network_analysis/anonymized\\\\all-week1\\\\2022-08-22.json', 'C:/Users/Diriba/Desktop/10AC/Projects/week0_starter_network_analysis/anonymized\\\\all-week1\\\\2022-08-23.json', 'C:/Users/Diriba/Desktop/10AC/Projects/week0_starter_network_analysis/anonymized\\\\all-week1\\\\2022-08-24.json', 'C:/Users/Diriba/Desktop/10AC/Projects/week0_starter_network_analysis/anonymized\\\\all-week1\\\\2022-08-25.json', 'C:/Users/Diriba/Desktop/10AC/Projects/week0_starter_network_analysis/anonymized\\\\all-week1\\\\2022-08-26.json', 'C:/Users/Diriba/Desktop/10AC/Projects/week0_starter_network_analysis/anonymized\\\\all-week1\\\\2022-08-27.json', 'C:/Users/Diriba/Desktop/10AC/Projects/week0_starter_network_analysis/anonymized\\\\all-week1\\\\2022-08-28.json', 'C:/Users/Diriba/Desktop/10AC/Projects/week0_starter_network_analysis/anonymized\\\\all-week1\\\\2022-08-31.json', 'C:/Users/Diriba/Desktop/10AC/Projects/week0_starter_network_analysis/anonymized\\\\all-week1\\\\2022-09-01.json', 'C:/Users/Diriba/Desktop/10AC/Projects/week0_starter_network_analysis/anonymized\\\\all-week1\\\\2022-11-08.json', 'C:/Users/Diriba/Desktop/10AC/Projects/week0_starter_network_analysis/anonymized\\\\all-week1\\\\2022-11-11.json', 'C:/Users/Diriba/Desktop/10AC/Projects/week0_starter_network_analysis/anonymized\\\\all-week10\\\\2022-10-23.json', 'C:/Users/Diriba/Desktop/10AC/Projects/week0_starter_network_analysis/anonymized\\\\all-week10\\\\2022-10-24.json', 'C:/Users/Diriba/Desktop/10AC/Projects/week0_starter_network_analysis/anonymized\\\\all-week10\\\\2022-10-25.json', 'C:/Users/Diriba/Desktop/10AC/Projects/week0_starter_network_analysis/anonymized\\\\all-week10\\\\2022-10-26.json', 'C:/Users/Diriba/Desktop/10AC/Projects/week0_starter_network_analysis/anonymized\\\\all-week10\\\\2022-10-27.json', 'C:/Users/Diriba/Desktop/10AC/Projects/week0_starter_network_analysis/anonymized\\\\all-week10\\\\2022-10-28.json', 'C:/Users/Diriba/Desktop/10AC/Projects/week0_starter_network_analysis/anonymized\\\\all-week10\\\\2022-10-29.json', 'C:/Users/Diriba/Desktop/10AC/Projects/week0_starter_network_analysis/anonymized\\\\all-week10\\\\2022-11-06.json', 'C:/Users/Diriba/Desktop/10AC/Projects/week0_starter_network_analysis/anonymized\\\\all-week11\\\\2022-10-30.json', 'C:/Users/Diriba/Desktop/10AC/Projects/week0_starter_network_analysis/anonymized\\\\all-week11\\\\2022-10-31.json', 'C:/Users/Diriba/Desktop/10AC/Projects/week0_starter_network_analysis/anonymized\\\\all-week11\\\\2022-11-01.json', 'C:/Users/Diriba/Desktop/10AC/Projects/week0_starter_network_analysis/anonymized\\\\all-week11\\\\2022-11-02.json', 'C:/Users/Diriba/Desktop/10AC/Projects/week0_starter_network_analysis/anonymized\\\\all-week11\\\\2022-11-03.json', 'C:/Users/Diriba/Desktop/10AC/Projects/week0_starter_network_analysis/anonymized\\\\all-week11\\\\2022-11-04.json', 'C:/Users/Diriba/Desktop/10AC/Projects/week0_starter_network_analysis/anonymized\\\\all-week11\\\\2022-11-05.json', 'C:/Users/Diriba/Desktop/10AC/Projects/week0_starter_network_analysis/anonymized\\\\all-week11\\\\2022-11-06.json', 'C:/Users/Diriba/Desktop/10AC/Projects/week0_starter_network_analysis/anonymized\\\\all-week12\\\\2022-11-06.json', 'C:/Users/Diriba/Desktop/10AC/Projects/week0_starter_network_analysis/anonymized\\\\all-week12\\\\2022-11-07.json', 'C:/Users/Diriba/Desktop/10AC/Projects/week0_starter_network_analysis/anonymized\\\\all-week12\\\\2022-11-09.json', 'C:/Users/Diriba/Desktop/10AC/Projects/week0_starter_network_analysis/anonymized\\\\all-week12\\\\2022-11-10.json', 'C:/Users/Diriba/Desktop/10AC/Projects/week0_starter_network_analysis/anonymized\\\\all-week12\\\\2022-11-11.json', 'C:/Users/Diriba/Desktop/10AC/Projects/week0_starter_network_analysis/anonymized\\\\all-week2\\\\2022-08-28.json', 'C:/Users/Diriba/Desktop/10AC/Projects/week0_starter_network_analysis/anonymized\\\\all-week2\\\\2022-08-29.json', 'C:/Users/Diriba/Desktop/10AC/Projects/week0_starter_network_analysis/anonymized\\\\all-week2\\\\2022-08-30.json', 'C:/Users/Diriba/Desktop/10AC/Projects/week0_starter_network_analysis/anonymized\\\\all-week2\\\\2022-08-31.json', 'C:/Users/Diriba/Desktop/10AC/Projects/week0_starter_network_analysis/anonymized\\\\all-week2\\\\2022-09-01.json', 'C:/Users/Diriba/Desktop/10AC/Projects/week0_starter_network_analysis/anonymized\\\\all-week2\\\\2022-09-02.json', 'C:/Users/Diriba/Desktop/10AC/Projects/week0_starter_network_analysis/anonymized\\\\all-week2\\\\2022-09-03.json', 'C:/Users/Diriba/Desktop/10AC/Projects/week0_starter_network_analysis/anonymized\\\\all-week2\\\\2022-09-04.json', 'C:/Users/Diriba/Desktop/10AC/Projects/week0_starter_network_analysis/anonymized\\\\all-week2\\\\2022-09-05.json', 'C:/Users/Diriba/Desktop/10AC/Projects/week0_starter_network_analysis/anonymized\\\\all-week2\\\\2022-09-06.json', 'C:/Users/Diriba/Desktop/10AC/Projects/week0_starter_network_analysis/anonymized\\\\all-week2\\\\2022-10-21.json', 'C:/Users/Diriba/Desktop/10AC/Projects/week0_starter_network_analysis/anonymized\\\\all-week3\\\\2022-09-04.json', 'C:/Users/Diriba/Desktop/10AC/Projects/week0_starter_network_analysis/anonymized\\\\all-week3\\\\2022-09-05.json', 'C:/Users/Diriba/Desktop/10AC/Projects/week0_starter_network_analysis/anonymized\\\\all-week3\\\\2022-09-06.json', 'C:/Users/Diriba/Desktop/10AC/Projects/week0_starter_network_analysis/anonymized\\\\all-week3\\\\2022-09-07.json', 'C:/Users/Diriba/Desktop/10AC/Projects/week0_starter_network_analysis/anonymized\\\\all-week3\\\\2022-09-08.json', 'C:/Users/Diriba/Desktop/10AC/Projects/week0_starter_network_analysis/anonymized\\\\all-week3\\\\2022-09-09.json', 'C:/Users/Diriba/Desktop/10AC/Projects/week0_starter_network_analysis/anonymized\\\\all-week3\\\\2022-09-10.json', 'C:/Users/Diriba/Desktop/10AC/Projects/week0_starter_network_analysis/anonymized\\\\all-week3\\\\2022-09-11.json', 'C:/Users/Diriba/Desktop/10AC/Projects/week0_starter_network_analysis/anonymized\\\\all-week4\\\\2022-09-11.json', 'C:/Users/Diriba/Desktop/10AC/Projects/week0_starter_network_analysis/anonymized\\\\all-week4\\\\2022-09-12.json', 'C:/Users/Diriba/Desktop/10AC/Projects/week0_starter_network_analysis/anonymized\\\\all-week4\\\\2022-09-13.json', 'C:/Users/Diriba/Desktop/10AC/Projects/week0_starter_network_analysis/anonymized\\\\all-week4\\\\2022-09-14.json', 'C:/Users/Diriba/Desktop/10AC/Projects/week0_starter_network_analysis/anonymized\\\\all-week4\\\\2022-09-15.json', 'C:/Users/Diriba/Desktop/10AC/Projects/week0_starter_network_analysis/anonymized\\\\all-week4\\\\2022-09-16.json', 'C:/Users/Diriba/Desktop/10AC/Projects/week0_starter_network_analysis/anonymized\\\\all-week4\\\\2022-09-17.json', 'C:/Users/Diriba/Desktop/10AC/Projects/week0_starter_network_analysis/anonymized\\\\all-week4\\\\2022-09-26.json', 'C:/Users/Diriba/Desktop/10AC/Projects/week0_starter_network_analysis/anonymized\\\\all-week4\\\\2022-09-28.json', 'C:/Users/Diriba/Desktop/10AC/Projects/week0_starter_network_analysis/anonymized\\\\all-week5\\\\2022-09-18.json', 'C:/Users/Diriba/Desktop/10AC/Projects/week0_starter_network_analysis/anonymized\\\\all-week5\\\\2022-09-19.json', 'C:/Users/Diriba/Desktop/10AC/Projects/week0_starter_network_analysis/anonymized\\\\all-week5\\\\2022-09-20.json', 'C:/Users/Diriba/Desktop/10AC/Projects/week0_starter_network_analysis/anonymized\\\\all-week5\\\\2022-09-21.json', 'C:/Users/Diriba/Desktop/10AC/Projects/week0_starter_network_analysis/anonymized\\\\all-week5\\\\2022-09-22.json', 'C:/Users/Diriba/Desktop/10AC/Projects/week0_starter_network_analysis/anonymized\\\\all-week5\\\\2022-09-23.json', 'C:/Users/Diriba/Desktop/10AC/Projects/week0_starter_network_analysis/anonymized\\\\all-week5\\\\2022-09-24.json', 'C:/Users/Diriba/Desktop/10AC/Projects/week0_starter_network_analysis/anonymized\\\\all-week6\\\\2022-09-25.json', 'C:/Users/Diriba/Desktop/10AC/Projects/week0_starter_network_analysis/anonymized\\\\all-week6\\\\2022-09-26.json', 'C:/Users/Diriba/Desktop/10AC/Projects/week0_starter_network_analysis/anonymized\\\\all-week6\\\\2022-09-27.json', 'C:/Users/Diriba/Desktop/10AC/Projects/week0_starter_network_analysis/anonymized\\\\all-week6\\\\2022-09-28.json', 'C:/Users/Diriba/Desktop/10AC/Projects/week0_starter_network_analysis/anonymized\\\\all-week6\\\\2022-09-29.json', 'C:/Users/Diriba/Desktop/10AC/Projects/week0_starter_network_analysis/anonymized\\\\all-week6\\\\2022-09-30.json', 'C:/Users/Diriba/Desktop/10AC/Projects/week0_starter_network_analysis/anonymized\\\\all-week6\\\\2022-10-01.json', 'C:/Users/Diriba/Desktop/10AC/Projects/week0_starter_network_analysis/anonymized\\\\all-week6\\\\2022-10-02.json', 'C:/Users/Diriba/Desktop/10AC/Projects/week0_starter_network_analysis/anonymized\\\\all-week7\\\\2022-10-02.json', 'C:/Users/Diriba/Desktop/10AC/Projects/week0_starter_network_analysis/anonymized\\\\all-week7\\\\2022-10-03.json', 'C:/Users/Diriba/Desktop/10AC/Projects/week0_starter_network_analysis/anonymized\\\\all-week7\\\\2022-10-04.json', 'C:/Users/Diriba/Desktop/10AC/Projects/week0_starter_network_analysis/anonymized\\\\all-week7\\\\2022-10-05.json', 'C:/Users/Diriba/Desktop/10AC/Projects/week0_starter_network_analysis/anonymized\\\\all-week7\\\\2022-10-06.json', 'C:/Users/Diriba/Desktop/10AC/Projects/week0_starter_network_analysis/anonymized\\\\all-week7\\\\2022-10-07.json', 'C:/Users/Diriba/Desktop/10AC/Projects/week0_starter_network_analysis/anonymized\\\\all-week7\\\\2022-10-08.json', 'C:/Users/Diriba/Desktop/10AC/Projects/week0_starter_network_analysis/anonymized\\\\all-week8\\\\2022-10-09.json', 'C:/Users/Diriba/Desktop/10AC/Projects/week0_starter_network_analysis/anonymized\\\\all-week8\\\\2022-10-10.json', 'C:/Users/Diriba/Desktop/10AC/Projects/week0_starter_network_analysis/anonymized\\\\all-week8\\\\2022-10-11.json', 'C:/Users/Diriba/Desktop/10AC/Projects/week0_starter_network_analysis/anonymized\\\\all-week8\\\\2022-10-12.json', 'C:/Users/Diriba/Desktop/10AC/Projects/week0_starter_network_analysis/anonymized\\\\all-week8\\\\2022-10-13.json', 'C:/Users/Diriba/Desktop/10AC/Projects/week0_starter_network_analysis/anonymized\\\\all-week8\\\\2022-10-14.json', 'C:/Users/Diriba/Desktop/10AC/Projects/week0_starter_network_analysis/anonymized\\\\all-week8\\\\2022-10-15.json', 'C:/Users/Diriba/Desktop/10AC/Projects/week0_starter_network_analysis/anonymized\\\\all-week9\\\\2022-10-16.json', 'C:/Users/Diriba/Desktop/10AC/Projects/week0_starter_network_analysis/anonymized\\\\all-week9\\\\2022-10-19.json', 'C:/Users/Diriba/Desktop/10AC/Projects/week0_starter_network_analysis/anonymized\\\\all-week9\\\\2022-10-20.json', 'C:/Users/Diriba/Desktop/10AC/Projects/week0_starter_network_analysis/anonymized\\\\all-week9\\\\2022-10-21.json', 'C:/Users/Diriba/Desktop/10AC/Projects/week0_starter_network_analysis/anonymized\\\\all-week9\\\\2022-10-22.json', 'C:/Users/Diriba/Desktop/10AC/Projects/week0_starter_network_analysis/anonymized\\\\all-week9\\\\2022-10-23.json', 'C:/Users/Diriba/Desktop/10AC/Projects/week0_starter_network_analysis/anonymized\\\\all-week9\\\\2022-10-28.json']\n",
      "(3342, 12)\n"
     ]
    },
    {
     "data": {
      "text/html": [
       "<div>\n",
       "<style scoped>\n",
       "    .dataframe tbody tr th:only-of-type {\n",
       "        vertical-align: middle;\n",
       "    }\n",
       "\n",
       "    .dataframe tbody tr th {\n",
       "        vertical-align: top;\n",
       "    }\n",
       "\n",
       "    .dataframe thead th {\n",
       "        text-align: right;\n",
       "    }\n",
       "</style>\n",
       "<table border=\"1\" class=\"dataframe\">\n",
       "  <thead>\n",
       "    <tr style=\"text-align: right;\">\n",
       "      <th></th>\n",
       "      <th>msg_type</th>\n",
       "      <th>msg_content</th>\n",
       "      <th>sender_name</th>\n",
       "      <th>msg_sent_time</th>\n",
       "      <th>msg_dist_type</th>\n",
       "      <th>time_thread_start</th>\n",
       "      <th>reply_count</th>\n",
       "      <th>reply_users_count</th>\n",
       "      <th>reply_users</th>\n",
       "      <th>tm_thread_end</th>\n",
       "      <th>channel_name</th>\n",
       "      <th>channel</th>\n",
       "    </tr>\n",
       "  </thead>\n",
       "  <tbody>\n",
       "    <tr>\n",
       "      <th>0</th>\n",
       "      <td>message</td>\n",
       "      <td>&lt;https://towardsdatascience.com/how-to-fill-mi...</td>\n",
       "      <td>Anthony Galloway</td>\n",
       "      <td>1661158502.784099</td>\n",
       "      <td>link</td>\n",
       "      <td>0</td>\n",
       "      <td>0</td>\n",
       "      <td>0</td>\n",
       "      <td>0</td>\n",
       "      <td>0</td>\n",
       "      <td>all-week1</td>\n",
       "      <td>anonymized</td>\n",
       "    </tr>\n",
       "    <tr>\n",
       "      <th>1</th>\n",
       "      <td>message</td>\n",
       "      <td>Imputation Using k-NN, Imputation Using Multiv...</td>\n",
       "      <td>Katie Dickerson</td>\n",
       "      <td>1661158692.172369</td>\n",
       "      <td>text</td>\n",
       "      <td>1661158692.172369</td>\n",
       "      <td>2</td>\n",
       "      <td>2</td>\n",
       "      <td>U03U1GHT39V,U03UJGRN5E0</td>\n",
       "      <td>1661159006.632649</td>\n",
       "      <td>all-week1</td>\n",
       "      <td>anonymized</td>\n",
       "    </tr>\n",
       "    <tr>\n",
       "      <th>2</th>\n",
       "      <td>message</td>\n",
       "      <td>&lt;https://towardsdatascience.com/6-different-wa...</td>\n",
       "      <td>Katie Dickerson</td>\n",
       "      <td>1661158702.777369</td>\n",
       "      <td>link</td>\n",
       "      <td>0</td>\n",
       "      <td>0</td>\n",
       "      <td>0</td>\n",
       "      <td>0</td>\n",
       "      <td>0</td>\n",
       "      <td>all-week1</td>\n",
       "      <td>anonymized</td>\n",
       "    </tr>\n",
       "    <tr>\n",
       "      <th>3</th>\n",
       "      <td>message</td>\n",
       "      <td>u can use SMOTE or mode to impute categorical ...</td>\n",
       "      <td>Joseph Diaz</td>\n",
       "      <td>1661158767.626859</td>\n",
       "      <td>text</td>\n",
       "      <td>1661158692.172369</td>\n",
       "      <td>0</td>\n",
       "      <td>0</td>\n",
       "      <td>0</td>\n",
       "      <td>0</td>\n",
       "      <td>all-week1</td>\n",
       "      <td>anonymized</td>\n",
       "    </tr>\n",
       "    <tr>\n",
       "      <th>4</th>\n",
       "      <td>message</td>\n",
       "      <td>:+1:thanks</td>\n",
       "      <td>Katie Dickerson</td>\n",
       "      <td>1661159006.632649</td>\n",
       "      <td>emoji</td>\n",
       "      <td>1661158692.172369</td>\n",
       "      <td>0</td>\n",
       "      <td>0</td>\n",
       "      <td>0</td>\n",
       "      <td>0</td>\n",
       "      <td>all-week1</td>\n",
       "      <td>anonymized</td>\n",
       "    </tr>\n",
       "  </tbody>\n",
       "</table>\n",
       "</div>"
      ],
      "text/plain": [
       "  msg_type                                        msg_content  \\\n",
       "0  message  <https://towardsdatascience.com/how-to-fill-mi...   \n",
       "1  message  Imputation Using k-NN, Imputation Using Multiv...   \n",
       "2  message  <https://towardsdatascience.com/6-different-wa...   \n",
       "3  message  u can use SMOTE or mode to impute categorical ...   \n",
       "4  message                                         :+1:thanks   \n",
       "\n",
       "        sender_name      msg_sent_time msg_dist_type  time_thread_start  \\\n",
       "0  Anthony Galloway  1661158502.784099          link                  0   \n",
       "1   Katie Dickerson  1661158692.172369          text  1661158692.172369   \n",
       "2   Katie Dickerson  1661158702.777369          link                  0   \n",
       "3       Joseph Diaz  1661158767.626859          text  1661158692.172369   \n",
       "4   Katie Dickerson  1661159006.632649         emoji  1661158692.172369   \n",
       "\n",
       "   reply_count  reply_users_count              reply_users      tm_thread_end  \\\n",
       "0            0                  0                        0                  0   \n",
       "1            2                  2  U03U1GHT39V,U03UJGRN5E0  1661159006.632649   \n",
       "2            0                  0                        0                  0   \n",
       "3            0                  0                        0                  0   \n",
       "4            0                  0                        0                  0   \n",
       "\n",
       "  channel_name     channel  \n",
       "0    all-week1  anonymized  \n",
       "1    all-week1  anonymized  \n",
       "2    all-week1  anonymized  \n",
       "3    all-week1  anonymized  \n",
       "4    all-week1  anonymized  "
      ]
     },
     "execution_count": 28,
     "metadata": {},
     "output_type": "execute_result"
    }
   ],
   "source": [
    "\n",
    "# making the data ready for work on\n",
    "\n",
    "data_loader = SlackDataLoader(\"C:/Users/Diriba/Desktop/10AC/Projects/week0_starter_network_analysis/anonymized\")\n",
    "path_channel = \"C:/Users/Diriba/Desktop/10AC/Projects/week0_starter_network_analysis/anonymized\"\n",
    "df = data_loader.slack_parser(path_channel)\n",
    "print(df.shape)\n",
    "df.head()\n"
   ]
  },
  {
   "cell_type": "code",
   "execution_count": null,
   "metadata": {},
   "outputs": [],
   "source": [
    "# which user has the highest number of reply counts?\n"
   ]
  },
  {
   "cell_type": "code",
   "execution_count": null,
   "metadata": {},
   "outputs": [],
   "source": [
    "# Visualize reply counts per user per channel"
   ]
  },
  {
   "cell_type": "code",
   "execution_count": null,
   "metadata": {},
   "outputs": [],
   "source": [
    "# what is the time range of the day that most messages are sent?\n"
   ]
  },
  {
   "cell_type": "code",
   "execution_count": null,
   "metadata": {},
   "outputs": [],
   "source": [
    "# what kind of messages are replied faster than others?"
   ]
  },
  {
   "cell_type": "code",
   "execution_count": null,
   "metadata": {},
   "outputs": [],
   "source": [
    "# Relationship between # of messages and # of reactions"
   ]
  },
  {
   "cell_type": "code",
   "execution_count": null,
   "metadata": {},
   "outputs": [],
   "source": [
    "# Classify messages into different categories such as questions, answers, comments, etc."
   ]
  },
  {
   "cell_type": "code",
   "execution_count": null,
   "metadata": {},
   "outputs": [],
   "source": [
    "# Which users got the most reactions?"
   ]
  },
  {
   "cell_type": "code",
   "execution_count": null,
   "metadata": {},
   "outputs": [],
   "source": [
    "# Model topics mentioned in the channel"
   ]
  },
  {
   "cell_type": "code",
   "execution_count": null,
   "metadata": {},
   "outputs": [],
   "source": [
    "# What are the topics that got the most reactions?"
   ]
  },
  {
   "cell_type": "markdown",
   "metadata": {},
   "source": [
    "### Harder questions to look into"
   ]
  },
  {
   "cell_type": "code",
   "execution_count": null,
   "metadata": {},
   "outputs": [],
   "source": [
    "# Based on messages, reactions, references shared, and other relevant data such as classification of questions into techical question, comment, answer, aorder stu the python, statistics, and sql skill level of a user?"
   ]
  }
 ],
 "metadata": {
  "kernelspec": {
   "display_name": "Python 3",
   "language": "python",
   "name": "python3"
  },
  "language_info": {
   "codemirror_mode": {
    "name": "ipython",
    "version": 3
   },
   "file_extension": ".py",
   "mimetype": "text/x-python",
   "name": "python",
   "nbconvert_exporter": "python",
   "pygments_lexer": "ipython3",
   "version": "3.11.5"
  }
 },
 "nbformat": 4,
 "nbformat_minor": 4
}
