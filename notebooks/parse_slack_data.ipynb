{
 "cells": [
  {
   "cell_type": "code",
   "execution_count": 1,
   "metadata": {},
   "outputs": [],
   "source": [
    "%reload_ext autoreload\n",
    "%autoreload 2"
   ]
  },
  {
   "cell_type": "code",
   "execution_count": 2,
   "metadata": {},
   "outputs": [],
   "source": [
    "import os, sys\n",
    "import re\n",
    "import json\n",
    "import glob\n",
    "import datetime\n",
    "from collections import Counter\n",
    "\n",
    "import pandas as pd\n",
    "from matplotlib import pyplot as plt\n",
    "import seaborn as sns\n",
    "\n",
    "from nltk.corpus import stopwords\n",
    "from wordcloud import WordCloud"
   ]
  },
  {
   "cell_type": "code",
   "execution_count": 3,
   "metadata": {},
   "outputs": [],
   "source": [
    "# Add parent directory to path to import modules from src\n",
    "rpath = os.path.abspath('..')\n",
    "if rpath not in sys.path:\n",
    "    sys.path.insert(0, rpath)\n",
    "\n",
    "from src.loader import SlackDataLoader\n",
    "import src.utils as utils\n",
    "import src.loader as loader"
   ]
  },
  {
   "cell_type": "code",
   "execution_count": 4,
   "metadata": {},
   "outputs": [],
   "source": [
    "# read one of json file for test purpose\"C:/Users/Diriba/Desktop/10AC/Projects/week0_starter_network_analysis/anonymized/\n",
    "data = pd.read_json(\"C:/Users/Diriba/Desktop/10AC/Projects/week0_starter_network_analysis/anonymized/users.json\")"
   ]
  },
  {
   "cell_type": "code",
   "execution_count": 5,
   "metadata": {},
   "outputs": [
    {
     "data": {
      "text/html": [
       "<div>\n",
       "<style scoped>\n",
       "    .dataframe tbody tr th:only-of-type {\n",
       "        vertical-align: middle;\n",
       "    }\n",
       "\n",
       "    .dataframe tbody tr th {\n",
       "        vertical-align: top;\n",
       "    }\n",
       "\n",
       "    .dataframe thead th {\n",
       "        text-align: right;\n",
       "    }\n",
       "</style>\n",
       "<table border=\"1\" class=\"dataframe\">\n",
       "  <thead>\n",
       "    <tr style=\"text-align: right;\">\n",
       "      <th></th>\n",
       "      <th>id</th>\n",
       "      <th>team_id</th>\n",
       "      <th>name</th>\n",
       "      <th>deleted</th>\n",
       "      <th>color</th>\n",
       "      <th>real_name</th>\n",
       "      <th>tz</th>\n",
       "      <th>tz_label</th>\n",
       "      <th>tz_offset</th>\n",
       "      <th>profile</th>\n",
       "      <th>...</th>\n",
       "      <th>is_owner</th>\n",
       "      <th>is_primary_owner</th>\n",
       "      <th>is_restricted</th>\n",
       "      <th>is_ultra_restricted</th>\n",
       "      <th>is_bot</th>\n",
       "      <th>is_app_user</th>\n",
       "      <th>updated</th>\n",
       "      <th>is_email_confirmed</th>\n",
       "      <th>who_can_share_contact_card</th>\n",
       "      <th>is_invited_user</th>\n",
       "    </tr>\n",
       "  </thead>\n",
       "  <tbody>\n",
       "    <tr>\n",
       "      <th>0</th>\n",
       "      <td>U03T89ACUUW</td>\n",
       "      <td>T03U4J8HMUG</td>\n",
       "      <td>Carlos</td>\n",
       "      <td>False</td>\n",
       "      <td>4bbe2e</td>\n",
       "      <td>Carlos Gross</td>\n",
       "      <td>Africa/Harare</td>\n",
       "      <td>Central Africa Time</td>\n",
       "      <td>7200.0</td>\n",
       "      <td>{'title': '', 'phone': '', 'skype': '', 'real_...</td>\n",
       "      <td>...</td>\n",
       "      <td>1.0</td>\n",
       "      <td>0.0</td>\n",
       "      <td>0.0</td>\n",
       "      <td>0.0</td>\n",
       "      <td>False</td>\n",
       "      <td>False</td>\n",
       "      <td>1669395557</td>\n",
       "      <td>0.0</td>\n",
       "      <td>EVERYONE</td>\n",
       "      <td>NaN</td>\n",
       "    </tr>\n",
       "    <tr>\n",
       "      <th>1</th>\n",
       "      <td>U03TEPYRM2P</td>\n",
       "      <td>T03U4J8HMUG</td>\n",
       "      <td>Garrett</td>\n",
       "      <td>False</td>\n",
       "      <td>9f69e7</td>\n",
       "      <td>Garrett Bell</td>\n",
       "      <td>Africa/Algiers</td>\n",
       "      <td>Central European Time</td>\n",
       "      <td>3600.0</td>\n",
       "      <td>{'title': '', 'phone': '', 'skype': '', 'real_...</td>\n",
       "      <td>...</td>\n",
       "      <td>1.0</td>\n",
       "      <td>1.0</td>\n",
       "      <td>0.0</td>\n",
       "      <td>0.0</td>\n",
       "      <td>False</td>\n",
       "      <td>False</td>\n",
       "      <td>1673852951</td>\n",
       "      <td>1.0</td>\n",
       "      <td>EVERYONE</td>\n",
       "      <td>NaN</td>\n",
       "    </tr>\n",
       "    <tr>\n",
       "      <th>2</th>\n",
       "      <td>U03TNP8Q8CT</td>\n",
       "      <td>T03U4J8HMUG</td>\n",
       "      <td>Bethany</td>\n",
       "      <td>False</td>\n",
       "      <td>e7392d</td>\n",
       "      <td>Bethany George</td>\n",
       "      <td>Africa/Algiers</td>\n",
       "      <td>Central European Time</td>\n",
       "      <td>3600.0</td>\n",
       "      <td>{'title': '', 'phone': '', 'skype': '', 'real_...</td>\n",
       "      <td>...</td>\n",
       "      <td>0.0</td>\n",
       "      <td>0.0</td>\n",
       "      <td>0.0</td>\n",
       "      <td>0.0</td>\n",
       "      <td>False</td>\n",
       "      <td>False</td>\n",
       "      <td>1660570354</td>\n",
       "      <td>0.0</td>\n",
       "      <td>EVERYONE</td>\n",
       "      <td>1.0</td>\n",
       "    </tr>\n",
       "    <tr>\n",
       "      <th>3</th>\n",
       "      <td>U03TT5KEYCF</td>\n",
       "      <td>T03U4J8HMUG</td>\n",
       "      <td>Luis</td>\n",
       "      <td>False</td>\n",
       "      <td>e0a729</td>\n",
       "      <td>Luis Ingram</td>\n",
       "      <td>Africa/Algiers</td>\n",
       "      <td>Central European Time</td>\n",
       "      <td>3600.0</td>\n",
       "      <td>{'title': '', 'phone': '', 'skype': '', 'real_...</td>\n",
       "      <td>...</td>\n",
       "      <td>0.0</td>\n",
       "      <td>0.0</td>\n",
       "      <td>0.0</td>\n",
       "      <td>0.0</td>\n",
       "      <td>False</td>\n",
       "      <td>False</td>\n",
       "      <td>1661268798</td>\n",
       "      <td>1.0</td>\n",
       "      <td>EVERYONE</td>\n",
       "      <td>NaN</td>\n",
       "    </tr>\n",
       "    <tr>\n",
       "      <th>4</th>\n",
       "      <td>U03TX2VN6H5</td>\n",
       "      <td>T03U4J8HMUG</td>\n",
       "      <td>Nicole</td>\n",
       "      <td>False</td>\n",
       "      <td>4cc091</td>\n",
       "      <td>Nicole Kim</td>\n",
       "      <td>Africa/Cairo</td>\n",
       "      <td>Eastern European Time</td>\n",
       "      <td>7200.0</td>\n",
       "      <td>{'title': '', 'phone': '', 'skype': '', 'real_...</td>\n",
       "      <td>...</td>\n",
       "      <td>0.0</td>\n",
       "      <td>0.0</td>\n",
       "      <td>0.0</td>\n",
       "      <td>0.0</td>\n",
       "      <td>False</td>\n",
       "      <td>False</td>\n",
       "      <td>1660904839</td>\n",
       "      <td>1.0</td>\n",
       "      <td>EVERYONE</td>\n",
       "      <td>NaN</td>\n",
       "    </tr>\n",
       "  </tbody>\n",
       "</table>\n",
       "<p>5 rows × 21 columns</p>\n",
       "</div>"
      ],
      "text/plain": [
       "            id      team_id     name  deleted   color       real_name  \\\n",
       "0  U03T89ACUUW  T03U4J8HMUG   Carlos    False  4bbe2e    Carlos Gross   \n",
       "1  U03TEPYRM2P  T03U4J8HMUG  Garrett    False  9f69e7    Garrett Bell   \n",
       "2  U03TNP8Q8CT  T03U4J8HMUG  Bethany    False  e7392d  Bethany George   \n",
       "3  U03TT5KEYCF  T03U4J8HMUG     Luis    False  e0a729     Luis Ingram   \n",
       "4  U03TX2VN6H5  T03U4J8HMUG   Nicole    False  4cc091      Nicole Kim   \n",
       "\n",
       "               tz               tz_label  tz_offset  \\\n",
       "0   Africa/Harare    Central Africa Time     7200.0   \n",
       "1  Africa/Algiers  Central European Time     3600.0   \n",
       "2  Africa/Algiers  Central European Time     3600.0   \n",
       "3  Africa/Algiers  Central European Time     3600.0   \n",
       "4    Africa/Cairo  Eastern European Time     7200.0   \n",
       "\n",
       "                                             profile  ...  is_owner  \\\n",
       "0  {'title': '', 'phone': '', 'skype': '', 'real_...  ...       1.0   \n",
       "1  {'title': '', 'phone': '', 'skype': '', 'real_...  ...       1.0   \n",
       "2  {'title': '', 'phone': '', 'skype': '', 'real_...  ...       0.0   \n",
       "3  {'title': '', 'phone': '', 'skype': '', 'real_...  ...       0.0   \n",
       "4  {'title': '', 'phone': '', 'skype': '', 'real_...  ...       0.0   \n",
       "\n",
       "   is_primary_owner  is_restricted  is_ultra_restricted  is_bot  is_app_user  \\\n",
       "0               0.0            0.0                  0.0   False        False   \n",
       "1               1.0            0.0                  0.0   False        False   \n",
       "2               0.0            0.0                  0.0   False        False   \n",
       "3               0.0            0.0                  0.0   False        False   \n",
       "4               0.0            0.0                  0.0   False        False   \n",
       "\n",
       "      updated  is_email_confirmed  who_can_share_contact_card is_invited_user  \n",
       "0  1669395557                 0.0                    EVERYONE             NaN  \n",
       "1  1673852951                 1.0                    EVERYONE             NaN  \n",
       "2  1660570354                 0.0                    EVERYONE             1.0  \n",
       "3  1661268798                 1.0                    EVERYONE             NaN  \n",
       "4  1660904839                 1.0                    EVERYONE             NaN  \n",
       "\n",
       "[5 rows x 21 columns]"
      ]
     },
     "execution_count": 5,
     "metadata": {},
     "output_type": "execute_result"
    }
   ],
   "source": [
    "# printing 5 rows from the top\n",
    "data.head()"
   ]
  },
  {
   "cell_type": "code",
   "execution_count": 6,
   "metadata": {},
   "outputs": [
    {
     "data": {
      "text/html": [
       "<div>\n",
       "<style scoped>\n",
       "    .dataframe tbody tr th:only-of-type {\n",
       "        vertical-align: middle;\n",
       "    }\n",
       "\n",
       "    .dataframe tbody tr th {\n",
       "        vertical-align: top;\n",
       "    }\n",
       "\n",
       "    .dataframe thead th {\n",
       "        text-align: right;\n",
       "    }\n",
       "</style>\n",
       "<table border=\"1\" class=\"dataframe\">\n",
       "  <thead>\n",
       "    <tr style=\"text-align: right;\">\n",
       "      <th></th>\n",
       "      <th>id</th>\n",
       "      <th>team_id</th>\n",
       "      <th>name</th>\n",
       "      <th>deleted</th>\n",
       "      <th>color</th>\n",
       "      <th>real_name</th>\n",
       "      <th>tz</th>\n",
       "      <th>tz_label</th>\n",
       "      <th>tz_offset</th>\n",
       "      <th>profile</th>\n",
       "      <th>...</th>\n",
       "      <th>is_owner</th>\n",
       "      <th>is_primary_owner</th>\n",
       "      <th>is_restricted</th>\n",
       "      <th>is_ultra_restricted</th>\n",
       "      <th>is_bot</th>\n",
       "      <th>is_app_user</th>\n",
       "      <th>updated</th>\n",
       "      <th>is_email_confirmed</th>\n",
       "      <th>who_can_share_contact_card</th>\n",
       "      <th>is_invited_user</th>\n",
       "    </tr>\n",
       "  </thead>\n",
       "  <tbody>\n",
       "    <tr>\n",
       "      <th>66</th>\n",
       "      <td>U03V8LHPDME</td>\n",
       "      <td>T03U4J8HMUG</td>\n",
       "      <td>Mandy</td>\n",
       "      <td>False</td>\n",
       "      <td>e96699</td>\n",
       "      <td>Mandy Sweeney</td>\n",
       "      <td>America/New_York</td>\n",
       "      <td>Eastern Standard Time</td>\n",
       "      <td>-18000.0</td>\n",
       "      <td>{'title': '', 'phone': '', 'skype': '', 'real_...</td>\n",
       "      <td>...</td>\n",
       "      <td>0.0</td>\n",
       "      <td>0.0</td>\n",
       "      <td>0.0</td>\n",
       "      <td>0.0</td>\n",
       "      <td>False</td>\n",
       "      <td>False</td>\n",
       "      <td>1667364708</td>\n",
       "      <td>1.0</td>\n",
       "      <td>EVERYONE</td>\n",
       "      <td>NaN</td>\n",
       "    </tr>\n",
       "    <tr>\n",
       "      <th>67</th>\n",
       "      <td>U03VAH809FC</td>\n",
       "      <td>T03U4J8HMUG</td>\n",
       "      <td>Paul</td>\n",
       "      <td>False</td>\n",
       "      <td>df3dc0</td>\n",
       "      <td>Paul Brown</td>\n",
       "      <td>America/Los_Angeles</td>\n",
       "      <td>Pacific Standard Time</td>\n",
       "      <td>-28800.0</td>\n",
       "      <td>{'title': '', 'phone': '', 'skype': '', 'real_...</td>\n",
       "      <td>...</td>\n",
       "      <td>0.0</td>\n",
       "      <td>0.0</td>\n",
       "      <td>0.0</td>\n",
       "      <td>0.0</td>\n",
       "      <td>True</td>\n",
       "      <td>False</td>\n",
       "      <td>1661515236</td>\n",
       "      <td>0.0</td>\n",
       "      <td>EVERYONE</td>\n",
       "      <td>NaN</td>\n",
       "    </tr>\n",
       "    <tr>\n",
       "      <th>68</th>\n",
       "      <td>U0401GU4W6L</td>\n",
       "      <td>T03U4J8HMUG</td>\n",
       "      <td>Kathleen</td>\n",
       "      <td>False</td>\n",
       "      <td>2b6836</td>\n",
       "      <td>Kathleen Phillips</td>\n",
       "      <td>America/Los_Angeles</td>\n",
       "      <td>Pacific Standard Time</td>\n",
       "      <td>-28800.0</td>\n",
       "      <td>{'title': '', 'phone': '', 'skype': '', 'real_...</td>\n",
       "      <td>...</td>\n",
       "      <td>0.0</td>\n",
       "      <td>0.0</td>\n",
       "      <td>0.0</td>\n",
       "      <td>0.0</td>\n",
       "      <td>True</td>\n",
       "      <td>False</td>\n",
       "      <td>1661252626</td>\n",
       "      <td>0.0</td>\n",
       "      <td>EVERYONE</td>\n",
       "      <td>NaN</td>\n",
       "    </tr>\n",
       "    <tr>\n",
       "      <th>69</th>\n",
       "      <td>U0418T6CD1B</td>\n",
       "      <td>T03U4J8HMUG</td>\n",
       "      <td>Kenneth</td>\n",
       "      <td>False</td>\n",
       "      <td>4cc091</td>\n",
       "      <td>Kenneth Fitzgerald</td>\n",
       "      <td>America/Los_Angeles</td>\n",
       "      <td>Pacific Standard Time</td>\n",
       "      <td>-28800.0</td>\n",
       "      <td>{'title': '', 'phone': '', 'skype': '', 'real_...</td>\n",
       "      <td>...</td>\n",
       "      <td>0.0</td>\n",
       "      <td>0.0</td>\n",
       "      <td>0.0</td>\n",
       "      <td>0.0</td>\n",
       "      <td>True</td>\n",
       "      <td>False</td>\n",
       "      <td>1662534866</td>\n",
       "      <td>0.0</td>\n",
       "      <td>EVERYONE</td>\n",
       "      <td>NaN</td>\n",
       "    </tr>\n",
       "    <tr>\n",
       "      <th>70</th>\n",
       "      <td>U04718Y7SQ0</td>\n",
       "      <td>T03U4J8HMUG</td>\n",
       "      <td>Audrey</td>\n",
       "      <td>False</td>\n",
       "      <td>9b3b45</td>\n",
       "      <td>Audrey Parsons</td>\n",
       "      <td>America/Los_Angeles</td>\n",
       "      <td>Pacific Standard Time</td>\n",
       "      <td>-28800.0</td>\n",
       "      <td>{'title': '', 'phone': '', 'skype': '', 'real_...</td>\n",
       "      <td>...</td>\n",
       "      <td>0.0</td>\n",
       "      <td>0.0</td>\n",
       "      <td>0.0</td>\n",
       "      <td>0.0</td>\n",
       "      <td>True</td>\n",
       "      <td>False</td>\n",
       "      <td>1665649740</td>\n",
       "      <td>0.0</td>\n",
       "      <td>EVERYONE</td>\n",
       "      <td>NaN</td>\n",
       "    </tr>\n",
       "  </tbody>\n",
       "</table>\n",
       "<p>5 rows × 21 columns</p>\n",
       "</div>"
      ],
      "text/plain": [
       "             id      team_id      name  deleted   color           real_name  \\\n",
       "66  U03V8LHPDME  T03U4J8HMUG     Mandy    False  e96699       Mandy Sweeney   \n",
       "67  U03VAH809FC  T03U4J8HMUG      Paul    False  df3dc0          Paul Brown   \n",
       "68  U0401GU4W6L  T03U4J8HMUG  Kathleen    False  2b6836   Kathleen Phillips   \n",
       "69  U0418T6CD1B  T03U4J8HMUG   Kenneth    False  4cc091  Kenneth Fitzgerald   \n",
       "70  U04718Y7SQ0  T03U4J8HMUG    Audrey    False  9b3b45      Audrey Parsons   \n",
       "\n",
       "                     tz               tz_label  tz_offset  \\\n",
       "66     America/New_York  Eastern Standard Time   -18000.0   \n",
       "67  America/Los_Angeles  Pacific Standard Time   -28800.0   \n",
       "68  America/Los_Angeles  Pacific Standard Time   -28800.0   \n",
       "69  America/Los_Angeles  Pacific Standard Time   -28800.0   \n",
       "70  America/Los_Angeles  Pacific Standard Time   -28800.0   \n",
       "\n",
       "                                              profile  ...  is_owner  \\\n",
       "66  {'title': '', 'phone': '', 'skype': '', 'real_...  ...       0.0   \n",
       "67  {'title': '', 'phone': '', 'skype': '', 'real_...  ...       0.0   \n",
       "68  {'title': '', 'phone': '', 'skype': '', 'real_...  ...       0.0   \n",
       "69  {'title': '', 'phone': '', 'skype': '', 'real_...  ...       0.0   \n",
       "70  {'title': '', 'phone': '', 'skype': '', 'real_...  ...       0.0   \n",
       "\n",
       "    is_primary_owner  is_restricted  is_ultra_restricted  is_bot  is_app_user  \\\n",
       "66               0.0            0.0                  0.0   False        False   \n",
       "67               0.0            0.0                  0.0    True        False   \n",
       "68               0.0            0.0                  0.0    True        False   \n",
       "69               0.0            0.0                  0.0    True        False   \n",
       "70               0.0            0.0                  0.0    True        False   \n",
       "\n",
       "       updated  is_email_confirmed  who_can_share_contact_card is_invited_user  \n",
       "66  1667364708                 1.0                    EVERYONE             NaN  \n",
       "67  1661515236                 0.0                    EVERYONE             NaN  \n",
       "68  1661252626                 0.0                    EVERYONE             NaN  \n",
       "69  1662534866                 0.0                    EVERYONE             NaN  \n",
       "70  1665649740                 0.0                    EVERYONE             NaN  \n",
       "\n",
       "[5 rows x 21 columns]"
      ]
     },
     "execution_count": 6,
     "metadata": {},
     "output_type": "execute_result"
    }
   ],
   "source": [
    "# printing 5 items from the bottom\n",
    "data.tail()"
   ]
  },
  {
   "cell_type": "code",
   "execution_count": 7,
   "metadata": {},
   "outputs": [
    {
     "data": {
      "text/html": [
       "<div>\n",
       "<style scoped>\n",
       "    .dataframe tbody tr th:only-of-type {\n",
       "        vertical-align: middle;\n",
       "    }\n",
       "\n",
       "    .dataframe tbody tr th {\n",
       "        vertical-align: top;\n",
       "    }\n",
       "\n",
       "    .dataframe thead th {\n",
       "        text-align: right;\n",
       "    }\n",
       "</style>\n",
       "<table border=\"1\" class=\"dataframe\">\n",
       "  <thead>\n",
       "    <tr style=\"text-align: right;\">\n",
       "      <th></th>\n",
       "      <th>tz_offset</th>\n",
       "      <th>is_admin</th>\n",
       "      <th>is_owner</th>\n",
       "      <th>is_primary_owner</th>\n",
       "      <th>is_restricted</th>\n",
       "      <th>is_ultra_restricted</th>\n",
       "      <th>updated</th>\n",
       "      <th>is_email_confirmed</th>\n",
       "      <th>is_invited_user</th>\n",
       "    </tr>\n",
       "  </thead>\n",
       "  <tbody>\n",
       "    <tr>\n",
       "      <th>count</th>\n",
       "      <td>57.000000</td>\n",
       "      <td>57.000000</td>\n",
       "      <td>57.000000</td>\n",
       "      <td>57.000000</td>\n",
       "      <td>57.0</td>\n",
       "      <td>57.0</td>\n",
       "      <td>7.100000e+01</td>\n",
       "      <td>57.000000</td>\n",
       "      <td>1.0</td>\n",
       "    </tr>\n",
       "    <tr>\n",
       "      <th>mean</th>\n",
       "      <td>3410.526316</td>\n",
       "      <td>0.070175</td>\n",
       "      <td>0.070175</td>\n",
       "      <td>0.017544</td>\n",
       "      <td>0.0</td>\n",
       "      <td>0.0</td>\n",
       "      <td>1.672156e+09</td>\n",
       "      <td>0.859649</td>\n",
       "      <td>1.0</td>\n",
       "    </tr>\n",
       "    <tr>\n",
       "      <th>std</th>\n",
       "      <td>12987.489643</td>\n",
       "      <td>0.257713</td>\n",
       "      <td>0.257713</td>\n",
       "      <td>0.132453</td>\n",
       "      <td>0.0</td>\n",
       "      <td>0.0</td>\n",
       "      <td>1.243181e+07</td>\n",
       "      <td>0.350438</td>\n",
       "      <td>NaN</td>\n",
       "    </tr>\n",
       "    <tr>\n",
       "      <th>min</th>\n",
       "      <td>-28800.000000</td>\n",
       "      <td>0.000000</td>\n",
       "      <td>0.000000</td>\n",
       "      <td>0.000000</td>\n",
       "      <td>0.0</td>\n",
       "      <td>0.0</td>\n",
       "      <td>1.660570e+09</td>\n",
       "      <td>0.000000</td>\n",
       "      <td>1.0</td>\n",
       "    </tr>\n",
       "    <tr>\n",
       "      <th>25%</th>\n",
       "      <td>3600.000000</td>\n",
       "      <td>0.000000</td>\n",
       "      <td>0.000000</td>\n",
       "      <td>0.000000</td>\n",
       "      <td>0.0</td>\n",
       "      <td>0.0</td>\n",
       "      <td>1.663371e+09</td>\n",
       "      <td>1.000000</td>\n",
       "      <td>1.0</td>\n",
       "    </tr>\n",
       "    <tr>\n",
       "      <th>50%</th>\n",
       "      <td>10800.000000</td>\n",
       "      <td>0.000000</td>\n",
       "      <td>0.000000</td>\n",
       "      <td>0.000000</td>\n",
       "      <td>0.0</td>\n",
       "      <td>0.0</td>\n",
       "      <td>1.667401e+09</td>\n",
       "      <td>1.000000</td>\n",
       "      <td>1.0</td>\n",
       "    </tr>\n",
       "    <tr>\n",
       "      <th>75%</th>\n",
       "      <td>10800.000000</td>\n",
       "      <td>0.000000</td>\n",
       "      <td>0.000000</td>\n",
       "      <td>0.000000</td>\n",
       "      <td>0.0</td>\n",
       "      <td>0.0</td>\n",
       "      <td>1.676618e+09</td>\n",
       "      <td>1.000000</td>\n",
       "      <td>1.0</td>\n",
       "    </tr>\n",
       "    <tr>\n",
       "      <th>max</th>\n",
       "      <td>10800.000000</td>\n",
       "      <td>1.000000</td>\n",
       "      <td>1.000000</td>\n",
       "      <td>1.000000</td>\n",
       "      <td>0.0</td>\n",
       "      <td>0.0</td>\n",
       "      <td>1.700820e+09</td>\n",
       "      <td>1.000000</td>\n",
       "      <td>1.0</td>\n",
       "    </tr>\n",
       "  </tbody>\n",
       "</table>\n",
       "</div>"
      ],
      "text/plain": [
       "          tz_offset   is_admin   is_owner  is_primary_owner  is_restricted  \\\n",
       "count     57.000000  57.000000  57.000000         57.000000           57.0   \n",
       "mean    3410.526316   0.070175   0.070175          0.017544            0.0   \n",
       "std    12987.489643   0.257713   0.257713          0.132453            0.0   \n",
       "min   -28800.000000   0.000000   0.000000          0.000000            0.0   \n",
       "25%     3600.000000   0.000000   0.000000          0.000000            0.0   \n",
       "50%    10800.000000   0.000000   0.000000          0.000000            0.0   \n",
       "75%    10800.000000   0.000000   0.000000          0.000000            0.0   \n",
       "max    10800.000000   1.000000   1.000000          1.000000            0.0   \n",
       "\n",
       "       is_ultra_restricted       updated  is_email_confirmed  is_invited_user  \n",
       "count                 57.0  7.100000e+01           57.000000              1.0  \n",
       "mean                   0.0  1.672156e+09            0.859649              1.0  \n",
       "std                    0.0  1.243181e+07            0.350438              NaN  \n",
       "min                    0.0  1.660570e+09            0.000000              1.0  \n",
       "25%                    0.0  1.663371e+09            1.000000              1.0  \n",
       "50%                    0.0  1.667401e+09            1.000000              1.0  \n",
       "75%                    0.0  1.676618e+09            1.000000              1.0  \n",
       "max                    0.0  1.700820e+09            1.000000              1.0  "
      ]
     },
     "execution_count": 7,
     "metadata": {},
     "output_type": "execute_result"
    }
   ],
   "source": [
    "# print desccription of the data \n",
    "data.describe()"
   ]
  },
  {
   "cell_type": "code",
   "execution_count": 8,
   "metadata": {},
   "outputs": [
    {
     "data": {
      "text/plain": [
       "(71, 21)"
      ]
     },
     "execution_count": 8,
     "metadata": {},
     "output_type": "execute_result"
    }
   ],
   "source": [
    "# know the shape of the data \n",
    "data.shape"
   ]
  },
  {
   "cell_type": "code",
   "execution_count": 9,
   "metadata": {},
   "outputs": [
    {
     "data": {
      "text/plain": [
       "Index(['id', 'team_id', 'name', 'deleted', 'color', 'real_name', 'tz',\n",
       "       'tz_label', 'tz_offset', 'profile', 'is_admin', 'is_owner',\n",
       "       'is_primary_owner', 'is_restricted', 'is_ultra_restricted', 'is_bot',\n",
       "       'is_app_user', 'updated', 'is_email_confirmed',\n",
       "       'who_can_share_contact_card', 'is_invited_user'],\n",
       "      dtype='object')"
      ]
     },
     "execution_count": 9,
     "metadata": {},
     "output_type": "execute_result"
    }
   ],
   "source": [
    "# print name of the data coumns\n",
    "data.columns"
   ]
  },
  {
   "cell_type": "markdown",
   "metadata": {},
   "source": [
    "### Columns we can get from a slack message<br>\n",
    "\n",
    "message_type, message_content, sender_id, time_sent, message_distribution, time_thread_start, reply_count, reply_user_count, time_thread_end, reply_users"
   ]
  },
  {
   "cell_type": "markdown",
   "metadata": {},
   "source": [
    "From a single slack message, we can get <br>\n",
    "\n",
    "1. The message<br>\n",
    "2. Type (message, file, link, etc)<br>\n",
    "3. The sender_id (assigned by slack)<br>\n",
    "4. The time the message was sent<br>\n",
    "5. The team (i don't know what that is now)<br>\n",
    "6. The type of the message (broadcast message, inhouse, just messgae)<br>\n",
    "7. The thread the message generated (from here we can go):<br>\n",
    "    7.1 Text/content of the message<br>\n",
    "    7.2 The thread time of the message<br>\n",
    "    7.3 The thread count (reply count)<br>\n",
    "    7.4 The number of user that reply the message (count of users that participated in the thread)<br>\n",
    "    7.5 The time the last thread message was sent <br>\n",
    "    7.6 The users that participated in the thread (their ids are stored as well)<br>"
   ]
  },
  {
   "cell_type": "markdown",
   "metadata": {},
   "source": [
    "## Insight Extraction\n",
    "\n",
    "Below are some useful questions to answer. Feel free to explore to answer other interesting questions that may be of help to get insight about student's behaviour, need, and future performance "
   ]
  },
  {
   "cell_type": "code",
   "execution_count": 10,
   "metadata": {},
   "outputs": [
    {
     "name": "stdout",
     "output_type": "stream",
     "text": [
      "(3342, 12)\n"
     ]
    },
    {
     "data": {
      "text/html": [
       "<div>\n",
       "<style scoped>\n",
       "    .dataframe tbody tr th:only-of-type {\n",
       "        vertical-align: middle;\n",
       "    }\n",
       "\n",
       "    .dataframe tbody tr th {\n",
       "        vertical-align: top;\n",
       "    }\n",
       "\n",
       "    .dataframe thead th {\n",
       "        text-align: right;\n",
       "    }\n",
       "</style>\n",
       "<table border=\"1\" class=\"dataframe\">\n",
       "  <thead>\n",
       "    <tr style=\"text-align: right;\">\n",
       "      <th></th>\n",
       "      <th>msg_type</th>\n",
       "      <th>msg_content</th>\n",
       "      <th>sender_name</th>\n",
       "      <th>msg_sent_time</th>\n",
       "      <th>msg_dist_type</th>\n",
       "      <th>time_thread_start</th>\n",
       "      <th>reply_count</th>\n",
       "      <th>reply_users_count</th>\n",
       "      <th>reply_users</th>\n",
       "      <th>tm_thread_end</th>\n",
       "      <th>channel_name</th>\n",
       "      <th>channel</th>\n",
       "    </tr>\n",
       "  </thead>\n",
       "  <tbody>\n",
       "    <tr>\n",
       "      <th>0</th>\n",
       "      <td>message</td>\n",
       "      <td>&lt;https://towardsdatascience.com/how-to-fill-mi...</td>\n",
       "      <td>Anthony Galloway</td>\n",
       "      <td>1661158502.784099</td>\n",
       "      <td>link</td>\n",
       "      <td>0</td>\n",
       "      <td>0</td>\n",
       "      <td>0</td>\n",
       "      <td>0</td>\n",
       "      <td>0</td>\n",
       "      <td>all-week1</td>\n",
       "      <td>anonymized</td>\n",
       "    </tr>\n",
       "    <tr>\n",
       "      <th>1</th>\n",
       "      <td>message</td>\n",
       "      <td>Imputation Using k-NN, Imputation Using Multiv...</td>\n",
       "      <td>Katie Dickerson</td>\n",
       "      <td>1661158692.172369</td>\n",
       "      <td>text</td>\n",
       "      <td>1661158692.172369</td>\n",
       "      <td>2</td>\n",
       "      <td>2</td>\n",
       "      <td>U03U1GHT39V,U03UJGRN5E0</td>\n",
       "      <td>1661159006.632649</td>\n",
       "      <td>all-week1</td>\n",
       "      <td>anonymized</td>\n",
       "    </tr>\n",
       "    <tr>\n",
       "      <th>2</th>\n",
       "      <td>message</td>\n",
       "      <td>&lt;https://towardsdatascience.com/6-different-wa...</td>\n",
       "      <td>Katie Dickerson</td>\n",
       "      <td>1661158702.777369</td>\n",
       "      <td>link</td>\n",
       "      <td>0</td>\n",
       "      <td>0</td>\n",
       "      <td>0</td>\n",
       "      <td>0</td>\n",
       "      <td>0</td>\n",
       "      <td>all-week1</td>\n",
       "      <td>anonymized</td>\n",
       "    </tr>\n",
       "    <tr>\n",
       "      <th>3</th>\n",
       "      <td>message</td>\n",
       "      <td>u can use SMOTE or mode to impute categorical ...</td>\n",
       "      <td>Joseph Diaz</td>\n",
       "      <td>1661158767.626859</td>\n",
       "      <td>text</td>\n",
       "      <td>1661158692.172369</td>\n",
       "      <td>0</td>\n",
       "      <td>0</td>\n",
       "      <td>0</td>\n",
       "      <td>0</td>\n",
       "      <td>all-week1</td>\n",
       "      <td>anonymized</td>\n",
       "    </tr>\n",
       "    <tr>\n",
       "      <th>4</th>\n",
       "      <td>message</td>\n",
       "      <td>:+1:thanks</td>\n",
       "      <td>Katie Dickerson</td>\n",
       "      <td>1661159006.632649</td>\n",
       "      <td>emoji</td>\n",
       "      <td>1661158692.172369</td>\n",
       "      <td>0</td>\n",
       "      <td>0</td>\n",
       "      <td>0</td>\n",
       "      <td>0</td>\n",
       "      <td>all-week1</td>\n",
       "      <td>anonymized</td>\n",
       "    </tr>\n",
       "  </tbody>\n",
       "</table>\n",
       "</div>"
      ],
      "text/plain": [
       "  msg_type                                        msg_content  \\\n",
       "0  message  <https://towardsdatascience.com/how-to-fill-mi...   \n",
       "1  message  Imputation Using k-NN, Imputation Using Multiv...   \n",
       "2  message  <https://towardsdatascience.com/6-different-wa...   \n",
       "3  message  u can use SMOTE or mode to impute categorical ...   \n",
       "4  message                                         :+1:thanks   \n",
       "\n",
       "        sender_name      msg_sent_time msg_dist_type  time_thread_start  \\\n",
       "0  Anthony Galloway  1661158502.784099          link                  0   \n",
       "1   Katie Dickerson  1661158692.172369          text  1661158692.172369   \n",
       "2   Katie Dickerson  1661158702.777369          link                  0   \n",
       "3       Joseph Diaz  1661158767.626859          text  1661158692.172369   \n",
       "4   Katie Dickerson  1661159006.632649         emoji  1661158692.172369   \n",
       "\n",
       "   reply_count  reply_users_count              reply_users      tm_thread_end  \\\n",
       "0            0                  0                        0                  0   \n",
       "1            2                  2  U03U1GHT39V,U03UJGRN5E0  1661159006.632649   \n",
       "2            0                  0                        0                  0   \n",
       "3            0                  0                        0                  0   \n",
       "4            0                  0                        0                  0   \n",
       "\n",
       "  channel_name     channel  \n",
       "0    all-week1  anonymized  \n",
       "1    all-week1  anonymized  \n",
       "2    all-week1  anonymized  \n",
       "3    all-week1  anonymized  \n",
       "4    all-week1  anonymized  "
      ]
     },
     "execution_count": 10,
     "metadata": {},
     "output_type": "execute_result"
    }
   ],
   "source": [
    "\n",
    "# making the data ready for work on\n",
    "\n",
    "data_loader = SlackDataLoader(\"C:/Users/Diriba/Desktop/10AC/Projects/week0_starter_network_analysis/anonymized\")\n",
    "path_channel = \"C:/Users/Diriba/Desktop/10AC/Projects/week0_starter_network_analysis/anonymized\"\n",
    "df = data_loader.slack_parser(path_channel)\n",
    "print(df.shape)\n",
    "df.head()\n"
   ]
  },
  {
   "cell_type": "code",
   "execution_count": 21,
   "metadata": {},
   "outputs": [
    {
     "name": "stdout",
     "output_type": "stream",
     "text": [
      "<class 'pandas.core.frame.DataFrame'>\n",
      "RangeIndex: 3342 entries, 0 to 3341\n",
      "Data columns (total 12 columns):\n",
      " #   Column             Non-Null Count  Dtype \n",
      "---  ------             --------------  ----- \n",
      " 0   msg_type           3342 non-null   object\n",
      " 1   msg_content        3342 non-null   object\n",
      " 2   sender_name        3342 non-null   object\n",
      " 3   msg_sent_time      3342 non-null   object\n",
      " 4   msg_dist_type      3342 non-null   object\n",
      " 5   time_thread_start  3342 non-null   object\n",
      " 6   reply_count        3342 non-null   int64 \n",
      " 7   reply_users_count  3342 non-null   int64 \n",
      " 8   reply_users        3342 non-null   object\n",
      " 9   tm_thread_end      3342 non-null   object\n",
      " 10  channel_name       3342 non-null   object\n",
      " 11  channel            3342 non-null   object\n",
      "dtypes: int64(2), object(10)\n",
      "memory usage: 313.4+ KB\n"
     ]
    }
   ],
   "source": [
    "df.info()"
   ]
  },
  {
   "cell_type": "code",
   "execution_count": 25,
   "metadata": {},
   "outputs": [
    {
     "data": {
      "text/plain": [
       "sender_name\n",
       "Amy Leon            15\n",
       "Michelle Lewis      17\n",
       "Katie Dickerson     18\n",
       "Paula Bryant        21\n",
       "Brenda Hernandez    21\n",
       "Cristian Wilson     24\n",
       "Joshua Rhodes       27\n",
       "Kelly Soto          30\n",
       "Ashley Hamilton     44\n",
       "Brady Rhodes        61\n",
       "Name: reply_count, dtype: int64"
      ]
     },
     "execution_count": 25,
     "metadata": {},
     "output_type": "execute_result"
    }
   ],
   "source": [
    "# which user has the highest number of reply counts?\n",
    "df.groupby('sender_name')['reply_count'].max().sort_values()[-10:]   \n",
    "\n"
   ]
  },
  {
   "cell_type": "markdown",
   "metadata": {},
   "source": [
    "from the above analysis Brady has the highest reply counts of 61"
   ]
  },
  {
   "cell_type": "code",
   "execution_count": 34,
   "metadata": {},
   "outputs": [
    {
     "data": {
      "text/plain": [
       "<Axes: xlabel='channel_name'>"
      ]
     },
     "execution_count": 34,
     "metadata": {},
     "output_type": "execute_result"
    },
    {
     "data": {
      "image/png": "[encoded data removed]",
      "text/plain": [
       "<Figure size 640x480 with 1 Axes>"
      ]
     },
     "metadata": {},
     "output_type": "display_data"
    }
   ],
   "source": [
    "# Visualize reply counts per week\n",
    "df.groupby(['channel_name'])['reply_count'].max().plot(kind='bar')\n"
   ]
  },
  {
   "cell_type": "code",
   "execution_count": 36,
   "metadata": {},
   "outputs": [
    {
     "data": {
      "text/plain": [
       "<Axes: xlabel='sender_name'>"
      ]
     },
     "execution_count": 36,
     "metadata": {},
     "output_type": "execute_result"
    },
    {
     "data": {
      "image/png": "[encoded data removed]",
      "text/plain": [
       "<Figure size 640x480 with 1 Axes>"
      ]
     },
     "metadata": {},
     "output_type": "display_data"
    }
   ],
   "source": [
    "# Visualize reply counts per user\n",
    "df.groupby(['sender_name'])['reply_count'].max().plot(kind='bar')\n"
   ]
  },
  {
   "cell_type": "code",
   "execution_count": 41,
   "metadata": {},
   "outputs": [
    {
     "data": {
      "text/plain": [
       "channel_name  sender_name     \n",
       "all-week1     Amy Leon            1\n",
       "              Anita Rodriguez     5\n",
       "              Anthony Galloway    0\n",
       "              April Lucas         6\n",
       "              Ashley Hamilton     1\n",
       "                                 ..\n",
       "all-week9     Nancy Craig         2\n",
       "              Phillip Atkins      0\n",
       "              Robert Carter       0\n",
       "              Samuel King         6\n",
       "              Travis Butler       0\n",
       "Name: reply_count, Length: 392, dtype: int64"
      ]
     },
     "execution_count": 41,
     "metadata": {},
     "output_type": "execute_result"
    }
   ],
   "source": [
    "# Visualize reply counts per user per channel\n",
    "user_channel = df.groupby(['channel_name','sender_name'])['reply_count'].max()\n",
    "user_channel\n",
    "\n"
   ]
  },
  {
   "cell_type": "code",
   "execution_count": 43,
   "metadata": {},
   "outputs": [
    {
     "name": "stdout",
     "output_type": "stream",
     "text": [
      "The time range with the most messages is from 8:00 to 9:00\n"
     ]
    }
   ],
   "source": [
    "#  =convert it to a pandas datetime object\n",
    "df['msg_sent_time'] = pd.to_datetime(df['msg_sent_time'], unit='s')\n",
    "df['hour_sent'] = df['msg_sent_time'].dt.hour\n",
    "hourly_message_counts = df.groupby('hour_sent').size()\n",
    "max_hour = hourly_message_counts.idxmax()\n",
    "print(f\"The time range with the most messages is from {max_hour}:00 to {(max_hour + 1) % 24}:00\")\n"
   ]
  },
  {
   "cell_type": "code",
   "execution_count": 44,
   "metadata": {},
   "outputs": [
    {
     "name": "stdout",
     "output_type": "stream",
     "text": [
      "msg_type\n",
      "message   -1.458772e+09\n",
      "Name: response_time, dtype: float64\n"
     ]
    }
   ],
   "source": [
    "# what kind of messages are replied faster than others?\n",
    "\n",
    "df['msg_sent_time'] = pd.to_datetime(df['msg_sent_time'], unit='s')\n",
    "df['tm_thread_end'] = pd.to_datetime(df['tm_thread_end'], unit='s')\n",
    "df['response_time'] = (df['tm_thread_end'] - df['msg_sent_time']).dt.total_seconds()\n",
    "average_response_time = df.groupby('msg_type')['response_time'].mean()\n",
    "print(average_response_time)"
   ]
  },
  {
   "cell_type": "code",
   "execution_count": 45,
   "metadata": {},
   "outputs": [
    {
     "data": {
      "image/png": "[encoded data removed]",
      "text/plain": [
       "<Figure size 640x480 with 1 Axes>"
      ]
     },
     "metadata": {},
     "output_type": "display_data"
    }
   ],
   "source": [
    "# Relationship between # of messages and # of reactions\n",
    "\n",
    "plt.scatter(df['reply_count'], df['reply_users_count'])\n",
    "plt.xlabel('Number of Messages')\n",
    "plt.ylabel('Number of Reactions')\n",
    "plt.title('Relationship between Number of Messages and Number of Reactions')\n",
    "plt.show()"
   ]
  },
  {
   "cell_type": "code",
   "execution_count": 46,
   "metadata": {},
   "outputs": [
    {
     "name": "stdout",
     "output_type": "stream",
     "text": [
      "                                            msg_content message_category\n",
      "0     <https://towardsdatascience.com/how-to-fill-mi...            Other\n",
      "1     Imputation Using k-NN, Imputation Using Multiv...            Other\n",
      "2     <https://towardsdatascience.com/6-different-wa...            Other\n",
      "3     u can use SMOTE or mode to impute categorical ...            Other\n",
      "4                                            :+1:thanks            Other\n",
      "...                                                 ...              ...\n",
      "3337                                                3.8            Other\n",
      "3338              Thank you, my python version was 3.10            Other\n",
      "3339  <https://realpython.com/linear-programming-pyt...            Other\n",
      "3340  <https://stackoverflow.com/questions/70941094/...            Other\n",
      "3341  <@U03UJGP0C68> <@U03UUR571A5> <@U03V785NLSU> p...            Other\n",
      "\n",
      "[3342 rows x 2 columns]\n"
     ]
    }
   ],
   "source": [
    "# Classify messages into different categories such as questions, answers, comments, etc.\n",
    "\n",
    "def classify_message(msg):\n",
    "    if '?' in msg:\n",
    "        return 'Question'\n",
    "    elif 'answer' in msg.lower():\n",
    "        return 'Answer'\n",
    "    elif 'help' in msg.lower():\n",
    "        return 'Request for Help'\n",
    "    else:\n",
    "        return 'Other'\n",
    "\n",
    "df['message_category'] = df['msg_content'].apply(classify_message)\n",
    "print(df[['msg_content', 'message_category']])"
   ]
  },
  {
   "cell_type": "code",
   "execution_count": 51,
   "metadata": {},
   "outputs": [
    {
     "name": "stdout",
     "output_type": "stream",
     "text": [
      "sender_name\n",
      "Cristian Wilson     158\n",
      "Michelle Lewis      115\n",
      "Brenda Hernandez    106\n",
      "Katie Dickerson      47\n",
      "Brian Odom           43\n",
      "Eric Myers           35\n",
      "Joshua Rhodes        34\n",
      "Ashley Hamilton      30\n",
      "Nancy Craig          29\n",
      "Travis Butler        28\n",
      "Name: reply_users_count, dtype: int64\n"
     ]
    }
   ],
   "source": [
    "# Which users got the most reactions?\n",
    "\n",
    "\n",
    "user_reaction_counts = df.groupby('sender_name')['reply_users_count'].sum()\n",
    "sorted_users = user_reaction_counts.sort_values(ascending=False)\n",
    "print(sorted_users.head(10))"
   ]
  },
  {
   "cell_type": "code",
   "execution_count": 18,
   "metadata": {},
   "outputs": [],
   "source": [
    "# Model topics mentioned in the channel"
   ]
  },
  {
   "cell_type": "code",
   "execution_count": 19,
   "metadata": {},
   "outputs": [],
   "source": [
    "# What are the topics that got the most reactions?"
   ]
  },
  {
   "cell_type": "markdown",
   "metadata": {},
   "source": [
    "### Harder questions to look into"
   ]
  },
  {
   "cell_type": "code",
   "execution_count": 20,
   "metadata": {},
   "outputs": [],
   "source": [
    "# Based on messages, reactions, references shared, and other relevant data such as classification of questions into techical question, comment, answer, aorder stu the python, statistics, and sql skill level of a user?"
   ]
  }
 ],
 "metadata": {
  "kernelspec": {
   "display_name": "Python 3",
   "language": "python",
   "name": "python3"
  },
  "language_info": {
   "codemirror_mode": {
    "name": "ipython",
    "version": 3
   },
   "file_extension": ".py",
   "mimetype": "text/x-python",
   "name": "python",
   "nbconvert_exporter": "python",
   "pygments_lexer": "ipython3",
   "version": "3.11.5"
  }
 },
 "nbformat": 4,
 "nbformat_minor": 4
}
