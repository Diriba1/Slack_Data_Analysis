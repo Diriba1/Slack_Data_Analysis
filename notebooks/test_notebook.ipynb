{
 "cells": [
  {
   "cell_type": "code",
   "execution_count": 2,
   "metadata": {},
   "outputs": [],
   "source": [
    "import os, sys\n",
    "import re\n",
    "import json\n",
    "import glob\n",
    "import datetime\n",
    "from collections import Counter\n",
    "\n",
    "import pandas as pd\n",
    "from matplotlib import pyplot as plt\n",
    "import seaborn as sns\n",
    "\n",
    "from nltk.corpus import stopwords\n",
    "from wordcloud import WordCloud"
   ]
  },
  {
   "cell_type": "code",
   "execution_count": 6,
   "metadata": {},
   "outputs": [
    {
     "name": "stdout",
     "output_type": "stream",
     "text": [
      "22700\n"
     ]
    }
   ],
   "source": [
    "def slack_test(path):\n",
    "    combined = []\n",
    "\n",
    "    for json_file in glob.glob(f\"{path}/all-week*/*.json\"):\n",
    "        with open(json_file, 'r', encoding=\"utf8\") as slack_data:\n",
    "            data = json.load(slack_data)  # or json.loads(slack_data.read()) if using loads\n",
    "            combined.append(data)\n",
    "    return combined\n",
    "\n",
    "df = pd.DataFrame(slack_test(\"C:/Users/Diriba/Desktop/10AC/Projects/week0_starter_network_analysis/anonymized/\"))\n",
    "print(df.size)"
   ]
  },
  {
   "cell_type": "code",
   "execution_count": 15,
   "metadata": {},
   "outputs": [
    {
     "ename": "AttributeError",
     "evalue": "'function' object has no attribute 'message'",
     "output_type": "error",
     "traceback": [
      "\u001b[1;31m---------------------------------------------------------------------------\u001b[0m",
      "\u001b[1;31mAttributeError\u001b[0m                            Traceback (most recent call last)",
      "\u001b[1;32mc:\\Users\\Diriba\\Desktop\\10AC\\Projects\\week0_starter_network_analysis\\notebooks\\test_notebook.ipynb Cell 3\u001b[0m line \u001b[0;36m1\n\u001b[1;32m----> <a href='vscode-notebook-cell:/c%3A/Users/Diriba/Desktop/10AC/Projects/week0_starter_network_analysis/notebooks/test_notebook.ipynb#W2sZmlsZQ%3D%3D?line=0'>1</a>\u001b[0m df\u001b[39m.\u001b[39;49mcount\u001b[39m.\u001b[39;49mmessage\n",
      "\u001b[1;31mAttributeError\u001b[0m: 'function' object has no attribute 'message'"
     ]
    }
   ],
   "source": [
    "df.count."
   ]
  }
 ],
 "metadata": {
  "kernelspec": {
   "display_name": "env",
   "language": "python",
   "name": "python3"
  },
  "language_info": {
   "codemirror_mode": {
    "name": "ipython",
    "version": 3
   },
   "file_extension": ".py",
   "mimetype": "text/x-python",
   "name": "python",
   "nbconvert_exporter": "python",
   "pygments_lexer": "ipython3",
   "version": "3.11.5"
  }
 },
 "nbformat": 4,
 "nbformat_minor": 2
}
